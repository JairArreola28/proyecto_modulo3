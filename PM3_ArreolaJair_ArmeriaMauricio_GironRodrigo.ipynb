{
 "cells": [
  {
   "cell_type": "markdown",
   "metadata": {},
   "source": [
    "![](Logo-ITESO-MinimoV.png)\n",
    "\n",
    "Instituto Tecnológico de Estudiios Superiores de Occidente\n",
    "\n",
    "**Integrante 1:** Jair Salvador Arreola Espinosa\n",
    "**Integrante 2:** Rodrigo Girón Lugo\n",
    "**Integrante 3:** Jair Salvador Arreola Espinosa\n",
    "\n",
    "**Expediente:** IC702784\n",
    "\n",
    "**Carrera:** Ingeniería Civil \n",
    "\n",
    "**Profesor:** Cristian Camilo Zapata Zuluaga"
   ]
  },
  {
   "cell_type": "code",
   "execution_count": null,
   "metadata": {},
   "outputs": [],
   "source": []
  }
 ],
 "metadata": {
  "kernelspec": {
   "display_name": "Python 3",
   "language": "python",
   "name": "python3"
  },
  "language_info": {
   "codemirror_mode": {
    "name": "ipython",
    "version": 3
   },
   "file_extension": ".py",
   "mimetype": "text/x-python",
   "name": "python",
   "nbconvert_exporter": "python",
   "pygments_lexer": "ipython3",
   "version": "3.7.3"
  }
 },
 "nbformat": 4,
 "nbformat_minor": 2
}
